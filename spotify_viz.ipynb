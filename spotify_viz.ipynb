{
  "nbformat": 4,
  "nbformat_minor": 0,
  "metadata": {
    "colab": {
      "provenance": [],
      "authorship_tag": "ABX9TyPV7ewGdgVpY7Pbnf4iI+Q5",
      "include_colab_link": true
    },
    "kernelspec": {
      "name": "python3",
      "display_name": "Python 3"
    },
    "language_info": {
      "name": "python"
    }
  },
  "cells": [
    {
      "cell_type": "markdown",
      "metadata": {
        "id": "view-in-github",
        "colab_type": "text"
      },
      "source": [
        "<a href=\"https://colab.research.google.com/github/tamisha-s/glowing-rotary-phone/blob/main/spotify_viz.ipynb\" target=\"_parent\"><img src=\"https://colab.research.google.com/assets/colab-badge.svg\" alt=\"Open In Colab\"/></a>"
      ]
    },
    {
      "cell_type": "markdown",
      "source": [
        "## Spotify Data Visualization"
      ],
      "metadata": {
        "id": "i03Bl5ODNy0I"
      }
    },
    {
      "cell_type": "code",
      "source": [
        "import pandas as pd\n",
        "import numpy as np\n",
        "import requests"
      ],
      "metadata": {
        "id": "h7TRzmJ9NdNu"
      },
      "execution_count": 3,
      "outputs": []
    },
    {
      "cell_type": "code",
      "source": [
        "df_stream0 = pd.read_json(\"https://raw.githubusercontent.com/tamisha-s/glowing-rotary-phone/main/StreamingHistory0.json\")"
      ],
      "metadata": {
        "id": "PIoL_tWIODtJ"
      },
      "execution_count": 4,
      "outputs": []
    },
    {
      "cell_type": "code",
      "source": [
        "df_stream1 = pd.read_json(\"https://raw.githubusercontent.com/tamisha-s/glowing-rotary-phone/main/StreamingHistory1.json\")"
      ],
      "metadata": {
        "id": "1dGgumzROOGk"
      },
      "execution_count": 6,
      "outputs": []
    },
    {
      "cell_type": "code",
      "source": [],
      "metadata": {
        "id": "72-FtilOOULI"
      },
      "execution_count": null,
      "outputs": []
    }
  ]
}